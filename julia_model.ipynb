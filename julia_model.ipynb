{
 "cells": [
  {
   "cell_type": "code",
   "execution_count": 7,
   "id": "1f26a178",
   "metadata": {},
   "outputs": [],
   "source": [
    "using DifferentialEquations\n",
    "using DiffEqSensitivity\n",
    "using ForwardDiff\n",
    "using GlobalSensitivity\n",
    "using Statistics\n",
    "using Plots\n",
    "using Printf"
   ]
  },
  {
   "cell_type": "code",
   "execution_count": 8,
   "id": "eaa15f50",
   "metadata": {},
   "outputs": [
    {
     "data": {
      "text/plain": [
       "model (generic function with 1 method)"
      ]
     },
     "execution_count": 8,
     "metadata": {},
     "output_type": "execute_result"
    }
   ],
   "source": [
    "function model(du,u,p,t)\n",
    "    \n",
    "    # PARAMATERS\n",
    "    # Load paramaters\n",
    "    carrying_capacity = p[1]\n",
    "    organic_carbon_input = p[2]\n",
    "    inorganic_carbon_input = p[3]\n",
    "    natural_death_fraction = p[4]\n",
    "    inorganic_carbon_fixing_factor = p[5]\n",
    "    ks = p[6]\n",
    "    organic_carbon_content_per_cell = p[7]\n",
    "    inorganic_carbon_content_per_cell = p[8]\n",
    "    mu_max = p[9]\n",
    "    base_maintenance_per_cell = p[10]\n",
    "    m_prime = p[11]\n",
    "    @assert m_prime == \"empty\" \"m_prime not implemented\"\n",
    "\n",
    "    # Load state conditions\n",
    "    organic_carbon_content = u[1]\n",
    "    inorganic_carbon_content = u[2]\n",
    "    cell_count = u[3]\n",
    "\n",
    "    ## CELL COUNT\n",
    "    # Growth\n",
    "    growth = mu_max * (organic_carbon_content / (ks + organic_carbon_content)) * cell_count * (1 - cell_count / carrying_capacity)\n",
    "\n",
    "#     # Specific growth rate\n",
    "#     next_cell_count = cell_count + growth\n",
    "#     specific_growth_rate = 0\n",
    "#     if next_cell_count > 0 && cell_count > 0\n",
    "#         specific_growth_rate = max((np.log(next_cell_count) - np.log(cell_count)), 0)\n",
    "#     end\n",
    "\n",
    "    # Organic carbon requirement\n",
    "    required_organic_carbon_per_cell = base_maintenance_per_cell  #+ m_prime * (1 - specific_growth_rate/mu_max)\n",
    "    required_organic_carbon = required_organic_carbon_per_cell * cell_count\n",
    "\n",
    "    # Starvation\n",
    "    organic_carbon_missing = max(required_organic_carbon - organic_carbon_content, 0)\n",
    "    \n",
    "    starvation_deaths = organic_carbon_missing == 0 ? 0 : organic_carbon_missing / required_organic_carbon_per_cell\n",
    "\n",
    "    # Natural Death\n",
    "    natural_deaths = natural_death_fraction * cell_count - natural_death_fraction * starvation_deaths\n",
    "\n",
    "    # Deaths\n",
    "    deaths = natural_deaths + starvation_deaths\n",
    "\n",
    "    # Net cell count change\n",
    "    du[3] = growth - deaths\n",
    "\n",
    "    ## CARBON\n",
    "    carbon_consumption = required_organic_carbon_per_cell * (cell_count - deaths)\n",
    "    fixed_carbon = inorganic_carbon_fixing_factor * inorganic_carbon_content\n",
    "\n",
    "    # Inorganic carbon\n",
    "    du[2] = inorganic_carbon_input + inorganic_carbon_content_per_cell * (\n",
    "            deaths - growth) + carbon_consumption - fixed_carbon\n",
    "\n",
    "    # Organic carbon\n",
    "    du[1] = organic_carbon_input + organic_carbon_content_per_cell * (\n",
    "            deaths - growth) - carbon_consumption + fixed_carbon\n",
    "    \n",
    "end"
   ]
  },
  {
   "cell_type": "code",
   "execution_count": 22,
   "id": "c0ddea60",
   "metadata": {
    "scrolled": true
   },
   "outputs": [
    {
     "data": {
      "text/plain": [
       "sensitivity_analysis (generic function with 1 method)"
      ]
     },
     "execution_count": 22,
     "metadata": {},
     "output_type": "execute_result"
    }
   ],
   "source": [
    "function run_model(p, u0)\n",
    "    # Check len of p and u0 to be 10 and 3\n",
    "    @assert size(p)[1] == 11 \"Wrong paramaters passed\"\n",
    "    @assert size(u0)[1] == 4 \"Wrong ivp passed\"\n",
    "    \n",
    "    # Build the ODE Problem and Solve\n",
    "    tspan = (0.0, last(u0))\n",
    "    prob = ODEProblem(model, u0[1:3], tspan, p)\n",
    "    sol = solve(prob, reltol=1e-9, abstol=1e-9)\n",
    "    \n",
    "    # Return the solution array - OC, IC, Cells, t\n",
    "    return [[x[1] for x in sol.u], [x[2] for x in sol.u], [x[3] for x in sol.u], sol.t]\n",
    "end\n",
    "\n",
    "\n",
    "function sensitivity_analysis(p_bounds)\n",
    "\n",
    "    f1 = function (p)\n",
    "      prob1 = remake(prob;p=p)\n",
    "      sol = solve(prob1, Rosenbrock23(); saveat=collect(range(0, stop=duration, length=200)), maxiters=Int(1e6))\n",
    "      [sol[1,:]]\n",
    "    end\n",
    "\n",
    "    sobol_result = GlobalSensitivity.gsa(f1, Sobol(), p_bounds, N=1000)\n",
    "    return (sobol_result.ST[1,:], sobol_result.S1[1,:])\n",
    "end"
   ]
  },
  {
   "cell_type": "code",
   "execution_count": 23,
   "id": "d733d69e",
   "metadata": {},
   "outputs": [
    {
     "name": "stdout",
     "output_type": "stream",
     "text": [
      "(13964,)"
     ]
    },
    {
     "data": {
      "text/plain": [
       "4-element Vector{Vector{Float64}}:\n",
       " [1.28682e12, 1.2868199999932112e12, 1.2868199999791409e12, 1.2868199999482898e12, 1.2868199998832793e12, 1.286819999753013e12, 1.2868199994962754e12, 1.2868199989776182e12, 1.286819997893424e12, 1.2868199957008838e12  …  4.7364252887000926e-8, 4.737358077518523e-8, 4.7373269184089164e-8, 4.737329142599317e-8, 4.737328889614616e-8, 4.737328924562405e-8, 4.737328920477344e-8, 4.737328920754763e-8, 4.737328920747233e-8, 4.737328920747288e-8]\n",
       " [0.0, 1.4142067628452193, 4.34528563586631, 10.772122421344415, 24.31491986898526, 51.451644242581416, 104.93453297754905, 212.9798489770704, 438.83630385453233, 895.580549565231  …  1.2868340000000034e12, 1.2868340000000034e12, 1.2868340000000034e12, 1.2868340000000034e12, 1.2868340000000034e12, 1.2868340000000034e12, 1.2868340000000034e12, 1.2868340000000034e12, 1.2868340000000034e12, 1.2868340000000034e12]\n",
       " [100000.0, 100000.03838932564, 100000.11795487735, 100000.29241446602, 100000.66004024372, 100001.3966797331, 100002.84849857689, 100005.78144085266, 100011.91242335371, 100024.31096628241  …  -4.447579089554622e-15, 1.4350647087683993e-16, -9.85529264715763e-18, 1.0919316645927288e-18, -1.5323164277134597e-19, 1.877758955291469e-20, -1.3286373853416794e-21, 3.678959910438176e-23, -2.7212441692417677e-25, 3.145102028990653e-27]\n",
       " [0.0, 6.511861722130248e-6, 2.0008310446845557e-5, 4.960129198204579e-5, 0.00011196022249846523, 0.0002369128235410235, 0.0004831751521444565, 0.0009806596454322476, 0.002020547319709862, 0.004123293136423803  …  59821.05945754899, 68799.54880480337, 81719.38053419582, 101001.00232938628, 134014.88623207688, 201117.71467456484, 363752.67029973795, 851486.0947510913, 2.7910345700625754e6, 4.01775e6]"
      ]
     },
     "execution_count": 23,
     "metadata": {},
     "output_type": "execute_result"
    }
   ],
   "source": [
    "p = [10^9, 0, 0, 0.001, 0, 882000000, 140, 0, 0.06, 0.0006/(0.00069 * 0.4), \"empty\"]\n",
    "i = [1286820000000.0, 0.0, 100000.0, 11000 * 365.25]\n",
    "\n",
    "run_model(p, i)"
   ]
  },
  {
   "cell_type": "code",
   "execution_count": null,
   "id": "a655927b",
   "metadata": {},
   "outputs": [],
   "source": []
  }
 ],
 "metadata": {
  "kernelspec": {
   "display_name": "Julia 1.7.2",
   "language": "julia",
   "name": "julia-1.7"
  },
  "language_info": {
   "file_extension": ".jl",
   "mimetype": "application/julia",
   "name": "julia",
   "version": "1.7.2"
  }
 },
 "nbformat": 4,
 "nbformat_minor": 5
}
